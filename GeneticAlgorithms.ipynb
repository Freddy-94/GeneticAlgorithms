{
  "nbformat": 4,
  "nbformat_minor": 0,
  "metadata": {
    "colab": {
      "provenance": [],
      "authorship_tag": "ABX9TyNQlDpEx6ZDgfpH97WAr0F8",
      "include_colab_link": true
    },
    "kernelspec": {
      "name": "python3",
      "display_name": "Python 3"
    },
    "language_info": {
      "name": "python"
    }
  },
  "cells": [
    {
      "cell_type": "markdown",
      "metadata": {
        "id": "view-in-github",
        "colab_type": "text"
      },
      "source": [
        "<a href=\"https://colab.research.google.com/github/Freddy-94/GeneticAlgorithms/blob/main/GeneticAlgorithms.ipynb\" target=\"_parent\"><img src=\"https://colab.research.google.com/assets/colab-badge.svg\" alt=\"Open In Colab\"/></a>"
      ]
    },
    {
      "cell_type": "markdown",
      "source": [
        "## Alfredo Bernal Luna\n",
        "### Practice No. 3. \"Genetic Algorithms\"."
      ],
      "metadata": {
        "id": "_hwm50Tn7hf2"
      }
    },
    {
      "cell_type": "code",
      "source": [],
      "metadata": {
        "id": "Xyfu-yxv7XJE"
      },
      "execution_count": null,
      "outputs": []
    }
  ]
}